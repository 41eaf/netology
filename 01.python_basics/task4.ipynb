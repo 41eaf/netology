{
 "cells": [
  {
   "cell_type": "code",
   "execution_count": 5,
   "metadata": {
    "scrolled": true
   },
   "outputs": [
    {
     "name": "stdout",
     "output_type": "stream",
     "text": [
      "Введите ширину товара(см)\n",
      "11\n",
      "Введите длину товара(см)\n",
      "11\n",
      "Введите высоту товара(см)\n",
      "11\n",
      "Коробка №1\n"
     ]
    }
   ],
   "source": [
    "'''Задание 4\n",
    "Вам нужно написать программу для подбора упаковок по размерам товара. \n",
    "Размеры (ширина, длина, высота) хранятся в переменных (в сантиметрах):\n",
    "Используйте следующие правила:\n",
    "если каждое из трех измерений менее 15 сантиметров, \n",
    "то выведите на экран \"Коробка №1\";\n",
    "если хотя бы одно из измерений больше 15 сантиметров, \n",
    "но менее 50 сантиметров, то выводите \"Коробка №2\";\n",
    "если длина товара больше 2 метров, то выводите \"Упаковка для лыж\";\n",
    "во всех остальных случаях выводите \"Стандартная коробка №3\".\n",
    "Пример работы программы:\n",
    "width = 15\n",
    "length = 50\n",
    "height = 15\n",
    "Результат:\n",
    "Стандартная коробка №3\n",
    "width = 45\n",
    "length = 205\n",
    "height = 45\n",
    "Результат:\n",
    "Ищите упаковку для лыж'''\n",
    "\n",
    "print ('Введите ширину товара(см)')\n",
    "width = int (input())\n",
    "print ('Введите длину товара(см)')\n",
    "length = int (input())\n",
    "print ('Введите высоту товара(см)')\n",
    "height = int (input())\n",
    "if width < 15 and length < 15 and height < 15:\n",
    "    print ('Коробка №1')\n",
    "elif (15 < width < 50 or 15 < length < 50 or 15 < height < 50) and length < 200:\n",
    "    print ('Коробка №2')\n",
    "elif length > 200:\n",
    "    print ('Упаковка для лыж')\n",
    "else:\n",
    "    print ('Стандартная коробка №3')\n",
    "\n",
    "\n"
   ]
  }
 ],
 "metadata": {
  "kernelspec": {
   "display_name": "Python 3",
   "language": "python",
   "name": "python3"
  },
  "language_info": {
   "codemirror_mode": {
    "name": "ipython",
    "version": 3
   },
   "file_extension": ".py",
   "mimetype": "text/x-python",
   "name": "python",
   "nbconvert_exporter": "python",
   "pygments_lexer": "ipython3",
   "version": "3.8.5"
  }
 },
 "nbformat": 4,
 "nbformat_minor": 4
}

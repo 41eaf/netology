{
 "cells": [
  {
   "cell_type": "code",
   "execution_count": 8,
   "metadata": {
    "scrolled": true
   },
   "outputs": [
    {
     "name": "stdout",
     "output_type": "stream",
     "text": [
      "Введите тип фигуры: Прямоугольник\n",
      "Введите длину стороны А: 2\n",
      "Введите длину стороны В: 5.3\n",
      "Площадь прямоугольника:  10.60\n"
     ]
    }
   ],
   "source": [
    "'''Задание 6 (необязательное)\n",
    "Напишите программу, которая сможет вычислять площади трех фигур (круг, треугольник и прямоугольник). \n",
    "Тип фигуры запрашиваем через пользовательский ввод, после чего делаем запрос характеристик фигуры:\n",
    "если пользователь выбрал круг, запрашиваем его радиус,\n",
    "если треугольник – длины трех его сторон;\n",
    "если прямоугольник – длины двух его сторон.\n",
    "Пример работы программы:\n",
    "Введите тип фигуры:\n",
    "Круг\n",
    "\n",
    "Введите радиус круга:\n",
    "10\n",
    "Результат:\n",
    "Площадь круга: 314.16\n",
    "Введите тип фигуры:\n",
    "Треугольник\n",
    "\n",
    "Введите длину стороны A:\n",
    "2\n",
    "\n",
    "Введите длину стороны B:\n",
    "2\n",
    "\n",
    "Введите длину стороны C:\n",
    "3\n",
    "Результат:\n",
    "Площадь треугольника: 1.98'''\n",
    "\n",
    "\n",
    "import math\n",
    "figure_type = input ('Введите тип фигуры: ')\n",
    "if figure_type == 'Круг' :\n",
    "    radius = float(input('Введите радиус круга: '))\n",
    "    figure_area = \"%.2f\" % (math.pi*(radius**2))\n",
    "    print (f'Площадь  круга:  {figure_area}')\n",
    "elif figure_type == 'Треугольник' :\n",
    "    \n",
    "    a = float(input('Введите длину стороны А: '))\n",
    "    b = float(input('Введите длину стороны В: '))\n",
    "    c = float(input('Введите длину стороны С: '))\n",
    "    p = (a+b+c)/2\n",
    "    figure_area = \"%.2f\" % (math.sqrt(p*(p-a)*(p-b)*(p-c)))\n",
    "    print (f'Площадь  треугольника:  {figure_area}')\n",
    "elif figure_type == 'Прямоугольник' :\n",
    "    a = float(input('Введите длину стороны А: '))\n",
    "    b = float(input('Введите длину стороны В: '))\n",
    "    figure_area = \"%.2f\" % (a*b)\n",
    "    print (f'Площадь прямоугольника:  {figure_area}')\n",
    "else: \n",
    "    print ('Для такого типа фигуры нет решения')"
   ]
  }
 ],
 "metadata": {
  "kernelspec": {
   "display_name": "Python 3",
   "language": "python",
   "name": "python3"
  },
  "language_info": {
   "codemirror_mode": {
    "name": "ipython",
    "version": 3
   },
   "file_extension": ".py",
   "mimetype": "text/x-python",
   "name": "python",
   "nbconvert_exporter": "python",
   "pygments_lexer": "ipython3",
   "version": "3.8.5"
  }
 },
 "nbformat": 4,
 "nbformat_minor": 4
}

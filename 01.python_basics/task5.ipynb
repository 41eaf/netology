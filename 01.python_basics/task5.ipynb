{
 "cells": [
  {
   "cell_type": "code",
   "execution_count": 5,
   "metadata": {},
   "outputs": [
    {
     "name": "stdout",
     "output_type": "stream",
     "text": [
      "Введите номер билета(6 цифр)\n",
      "787778\n",
      "Счастливый билет\n"
     ]
    }
   ],
   "source": [
    "'''Задание 5 (необязательное)\n",
    "Дана переменная, в которой хранится шестизначное число (номер проездного билета). \n",
    "Напишите программу, которая будет определять, является ли данный билет \"счастливым\". \n",
    "Билет считается счастливым, если сумма первых трех цифр совпадает с суммой последних трех цифр номера.\n",
    "Примеры работы программы:\n",
    "number = 123456\n",
    "Результат:\n",
    "Неасчастливый билет\n",
    "number = 123321\n",
    "Результат:\n",
    "Счастливый билет'''\n",
    "\n",
    "print ('Введите номер билета(6 цифр)')\n",
    "ticket_number = str(input())\n",
    "sum1 = int(ticket_number[0]) + int(ticket_number[1]) + int(ticket_number[2])\n",
    "sum2 = int(ticket_number[3]) + int(ticket_number[4]) + int(ticket_number[5])\n",
    "if sum1 == sum2:\n",
    "    print ('Счастливый билет')\n",
    "else:\n",
    "    print ('Обычный билет')\n"
   ]
  }
 ],
 "metadata": {
  "kernelspec": {
   "display_name": "Python 3",
   "language": "python",
   "name": "python3"
  },
  "language_info": {
   "codemirror_mode": {
    "name": "ipython",
    "version": 3
   },
   "file_extension": ".py",
   "mimetype": "text/x-python",
   "name": "python",
   "nbconvert_exporter": "python",
   "pygments_lexer": "ipython3",
   "version": "3.8.5"
  }
 },
 "nbformat": 4,
 "nbformat_minor": 4
}

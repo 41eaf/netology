{
 "cells": [
  {
   "cell_type": "code",
   "execution_count": 3,
   "metadata": {},
   "outputs": [
    {
     "name": "stdout",
     "output_type": "stream",
     "text": [
      "Какой сейчас год?\n",
      "2222\n",
      "Это обычный год\n"
     ]
    }
   ],
   "source": [
    "'''Задание 2\n",
    "Дана переменная, в которой хранится четырехзначное число (год). \n",
    "Необходимо написать программу, которая выведет, \n",
    "является ли данный год високосным или обычным.\n",
    "\n",
    "Пример работы программы:\n",
    "\n",
    "year = 2020\n",
    "Результат:\n",
    "Високосный год\n",
    "\n",
    "year = 2019\n",
    "Результат:\n",
    "Обычный год'''\n",
    "\n",
    "print ('Какой сейчас год?')\n",
    "current_year = int(input())\n",
    "if current_year % 4 == 0 or (current_year % 100 == 0 and current_year % 400 == 0):\n",
    "    print ('Это високосный год')\n",
    "else:\n",
    "    print ('Это обычный год')\n",
    "\n",
    "\n",
    "\n"
   ]
  }
 ],
 "metadata": {
  "kernelspec": {
   "display_name": "Python 3",
   "language": "python",
   "name": "python3"
  },
  "language_info": {
   "codemirror_mode": {
    "name": "ipython",
    "version": 3
   },
   "file_extension": ".py",
   "mimetype": "text/x-python",
   "name": "python",
   "nbconvert_exporter": "python",
   "pygments_lexer": "ipython3",
   "version": "3.8.5"
  }
 },
 "nbformat": 4,
 "nbformat_minor": 4
}

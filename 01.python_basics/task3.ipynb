{
 "cells": [
  {
   "cell_type": "code",
   "execution_count": 7,
   "metadata": {},
   "outputs": [
    {
     "name": "stdout",
     "output_type": "stream",
     "text": [
      "Введите день рождения: 30\n",
      "Введите месяц рождения: Октябрь\n",
      "Ваш знак зодиака: Скорпион\n"
     ]
    }
   ],
   "source": [
    "'''Задание 3\n",
    "Необходимо написать программу, которая будет запрашивать у пользователя месяц и дату рождения и выводить соответствующий знак зодиака.\n",
    "Пример работы программы:\n",
    "Введите день:\n",
    "30\n",
    "\n",
    "Введите месяц:\n",
    "Август\n",
    "Результат:\n",
    "Ваш знак зодиака: Дева\n",
    "Введите день:\n",
    "29\n",
    "\n",
    "Введите месяц:\n",
    "Октябрь\n",
    "Результат:\n",
    "Ваш знак зодиака: Скорпион'''\n",
    "\n",
    "date = int(input('Введите день рождения: '))\n",
    "month = str(input('Введите месяц рождения: '))\n",
    "if (date >= 21 and date <= 31 and month == 'Март') or (month == 'Апрель' and date >= 1 and date <= 19):\n",
    "    print('Ваш знак зодиака: Овен')\n",
    "elif (date >= 20 and date <= 30 and month == 'Апрель') or (month == 'Май' and date >= 1 and date <= 20):\n",
    "    print ('Ваш знак зодиака: Телец')\n",
    "elif (date >= 21 and date <= 31 and month == 'Май') or (month == 'Июнь' and date >= 1 and date <= 20):\n",
    "    print('Ваш знак зодиака: Близнецы')\n",
    "elif (date >= 21 and date <= 30 and month == 'Июнь') or (month == 'Июль' and date >= 1 and date <= 22):\n",
    "    print('Ваш знак зодиака: Рак')\n",
    "elif (date >= 23 and date <= 31 and month == 'Июль') or (month == 'Август' and date >= 1 and date <= 22):\n",
    "    print('Ваш знак зодиака: Лев')\n",
    "elif (date >= 23 and date <= 31 and month == 'Август') or (month == 'Сентябрь' and date >= 1 and date <= 22):\n",
    "    print('Ваш знак зодиака: Дева')\n",
    "elif (date >= 23 and date <= 30 and month == 'Сентябрь') or (month == 'Октябрь' and date >= 1 and date <= 22):\n",
    "    print ('Ваш знак зодиака: Весы')\n",
    "elif (date >= 23 and date <= 31 and month == 'Октябрь') or (month == 'Ноябрь' and date >= 1 and date <= 21):\n",
    "    print('Ваш знак зодиака: Скорпион')\n",
    "elif (date >= 22 and date <= 30 and month == 'Ноябрь') or (month == 'Декабрь' and date >= 1 and date <= 21):\n",
    "    print('Ваш знак зодиака:ы Стрелец')\n",
    "elif (date >= 22 and date <= 31 and month == 'Декабрь') or (month == 'Январь' and date >= 1 and date <= 19):\n",
    "    print('Ваш знак зодиака: Козерог')\n",
    "elif (date >= 20 and date <= 31 and month == 'Январь') or (month == 'Февраль' and date >= 1 and date <= 18):\n",
    "    print('Ваш знак зодиака: Водолей')\n",
    "elif (date >= 19 and date <= 29 and month == 'Февраль') or (month == 'Март' and date >= 1 and date <= 20):\n",
    "    print('Ваш знак зодиака: Рыбы')\n",
    "\n",
    "\n"
   ]
  }
 ],
 "metadata": {
  "kernelspec": {
   "display_name": "Python 3",
   "language": "python",
   "name": "python3"
  },
  "language_info": {
   "codemirror_mode": {
    "name": "ipython",
    "version": 3
   },
   "file_extension": ".py",
   "mimetype": "text/x-python",
   "name": "python",
   "nbconvert_exporter": "python",
   "pygments_lexer": "ipython3",
   "version": "3.8.5"
  }
 },
 "nbformat": 4,
 "nbformat_minor": 4
}

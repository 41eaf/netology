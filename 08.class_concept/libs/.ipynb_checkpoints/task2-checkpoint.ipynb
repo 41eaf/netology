{
 "cells": [
  {
   "cell_type": "code",
   "execution_count": null,
   "metadata": {},
   "outputs": [],
   "source": [
    "'''Задание 2\n",
    "Добавьте в класс Rate параметр diff (со значениями True или False), \n",
    "который в случае значения True в методах курсов валют (eur, usd итд) будет возвращать не курс валюты, \n",
    "а изменение по сравнению в прошлым значением. \n",
    "Считайте, self.diff будет принимать значение True только при возврате значения курса. \n",
    "При отображении всей информации о валюте он не используется.'''"
   ]
  },
  {
   "cell_type": "code",
   "execution_count": 1,
   "metadata": {},
   "outputs": [
    {
     "data": {
      "text/plain": [
       "-0.4164999999999992"
      ]
     },
     "execution_count": 1,
     "metadata": {},
     "output_type": "execute_result"
    }
   ],
   "source": [
    "import requests\n",
    "\n",
    "class Rate:\n",
    "    def __init__(self, format='value', diff='True'):\n",
    "        self.format = format\n",
    "        self.diff = diff\n",
    "    \n",
    "    def exchange_rates(self):\n",
    "        \"\"\"\n",
    "        Возвращает ответ сервиса с информацией о валютах в виде:\n",
    "        \n",
    "        {\n",
    "            'AMD': {\n",
    "                'CharCode': 'AMD',\n",
    "                'ID': 'R01060',\n",
    "                'Name': 'Армянских драмов',\n",
    "                'Nominal': 100,\n",
    "                'NumCode': '051',\n",
    "                'Previous': 14.103,\n",
    "                'Value': 14.0879\n",
    "                },\n",
    "            ...\n",
    "        }\n",
    "        \"\"\"\n",
    "        r = requests.get('https://www.cbr-xml-daily.ru/daily_json.js')\n",
    "        return r.json()['Valute']\n",
    "    \n",
    "    def make_format(self, currency):\n",
    "        \"\"\"\n",
    "        Возвращает информацию о валюте currency в двух вариантах:\n",
    "        - полная информация о валюте при self.format = 'full':\n",
    "        Rate('full').make_format('EUR')\n",
    "        {\n",
    "            'CharCode': 'EUR',\n",
    "            'ID': 'R01239',\n",
    "            'Name': 'Евро',\n",
    "            'Nominal': 1,\n",
    "            'NumCode': '978',\n",
    "            'Previous': 79.6765,\n",
    "            'Value': 79.4966\n",
    "        }\n",
    "        \n",
    "        Rate('value').make_format('EUR')\n",
    "        79.4966\n",
    "        \"\"\"\n",
    "        response = self.exchange_rates()\n",
    "        \n",
    "        if currency in response:\n",
    "            if self.format == 'full':\n",
    "                return response[currency]\n",
    "            \n",
    "            if self.format == 'value':\n",
    "                return response[currency]['Value']\n",
    "        \n",
    "        return 'Error'\n",
    "    \n",
    "    def eur(self):\n",
    "        \"\"\"Возвращает курс евро на сегодня в формате self.format\"\"\"\n",
    "        if self.diff:\n",
    "            return self.make_format('EUR')\n",
    "        else:\n",
    "            response = self.exchange_rates()\n",
    "            return response['EUR']['Value']-response['EUR']['Previous']\n",
    "    \n",
    "    def usd(self):\n",
    "        \"\"\"Возвращает курс доллара на сегодня в формате self.format\"\"\"\n",
    "        if self.diff:\n",
    "            return self.make_format('USD')\n",
    "        else:\n",
    "            response = self.exchange_rates()\n",
    "            return response['USD']['Value']-response['USD']['Previous']\n",
    "    \n",
    "    def get_currency_name(self, currency):\n",
    "        \"\"\"Возвращает название валюты\"\"\"\n",
    "        response = self.exchange_rates()\n",
    "        return response[currency]['Name']\n",
    "        \n",
    "\n",
    "curr2 = Rate()\n",
    "curr2.get_currency_name('USD')\n",
    "curr2.eur()\n",
    "curr2.usd()\n",
    "curr2.diff = False\n",
    "curr2.eur()\n",
    "curr2.usd()"
   ]
  }
 ],
 "metadata": {
  "kernelspec": {
   "display_name": "Python 3",
   "language": "python",
   "name": "python3"
  },
  "language_info": {
   "codemirror_mode": {
    "name": "ipython",
    "version": 3
   },
   "file_extension": ".py",
   "mimetype": "text/x-python",
   "name": "python",
   "nbconvert_exporter": "python",
   "pygments_lexer": "ipython3",
   "version": "3.8.5"
  }
 },
 "nbformat": 4,
 "nbformat_minor": 4
}

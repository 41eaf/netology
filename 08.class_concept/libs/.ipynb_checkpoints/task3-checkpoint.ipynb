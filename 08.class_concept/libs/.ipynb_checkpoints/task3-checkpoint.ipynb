{
 "cells": [
  {
   "cell_type": "code",
   "execution_count": null,
   "metadata": {},
   "outputs": [],
   "source": [
    "'''Задание 3\n",
    "Напишите класс Designer, который учитывает количество международных премий. \n",
    "Подсказки в коде занятия в разделе “Домашнее задание задача 3”.\n",
    "\n",
    "Комментарий по классу Designer такой:\n",
    "Напишите класс Designer, который учитывает количество международных премий для дизайнеров \n",
    "(из презентации: “Повышение на 1 грейд за каждые 7 баллов. Получение международной премии – это +2 балла”). \n",
    "Считайте, что при выходе на работу сотрудник уже имеет две премии и их количество не меняется со стажем \n",
    "(конечно если хотите это можно вручную менять).\n",
    "\n",
    "Класс Designer пишется по аналогии с классом Developer из материалов занятия. \n",
    "Комментарий про его условия Вика написала выше: “Повышение на 1 грейд за каждые 7 баллов. \n",
    "Получение международной премии – это +2 балла”'''"
   ]
  },
  {
   "cell_type": "code",
   "execution_count": 3,
   "metadata": {},
   "outputs": [],
   "source": [
    "class Employee:\n",
    "    def __init__(self, name, seniority):\n",
    "        self.name = name\n",
    "        self.seniority = seniority\n",
    "        \n",
    "        self.grade = 1\n",
    "    \n",
    "    def grade_up(self):\n",
    "        \"\"\"Повышает уровень сотрудника\"\"\"\n",
    "        self.grade += 1\n",
    "    \n",
    "    def publish_grade(self):\n",
    "        \"\"\"Публикация результатов аккредитации сотрудников\"\"\"\n",
    "        print(self.name, self.grade)\n",
    "    \n",
    "    def check_if_it_is_time_for_upgrade(self):\n",
    "        pass"
   ]
  },
  {
   "cell_type": "code",
   "execution_count": 4,
   "metadata": {},
   "outputs": [],
   "source": [
    "class Developer(Employee):\n",
    "    def __init__(self, name, seniority):\n",
    "        super().__init__(name, seniority)\n",
    "    \n",
    "    def check_if_it_is_time_for_upgrade(self):\n",
    "        # для каждой аккредитации увеличиваем счетчик на 1\n",
    "        # пока считаем, что все разработчики проходят аккредитацию\n",
    "        self.seniority += 1\n",
    "        \n",
    "        # условие повышения сотрудника из презентации\n",
    "        if self.seniority % 5 == 0:\n",
    "            self.grade_up()\n",
    "        \n",
    "        # публикация результатов\n",
    "        return self.publish_grade()"
   ]
  },
  {
   "cell_type": "code",
   "execution_count": 22,
   "metadata": {},
   "outputs": [],
   "source": [
    "class Designer(Employee):\n",
    "    def __init__(self, name, seniority, inter_prize=2):\n",
    "        super().__init__(name, seniority)\n",
    "        self.inter_prize = inter_prize;\n",
    "    \n",
    "    def grade(self):\n",
    "        return ((self.inter_prize * 2 + self.seniority) / 7)\n",
    "    \n",
    "    def give_a_prize(self):\n",
    "        print('New prize!')\n",
    "        self.inter_prize += 1\n",
    "        self.seniority += 2\n",
    "        \n",
    "    def check_if_it_is_time_for_upgrade(self):\n",
    "        self.seniority += 1\n",
    "        if self.seniority % 7 == 0:\n",
    "            self.grade_up()\n",
    "\n",
    "        return self.publish_grade()\n",
    "    "
   ]
  },
  {
   "cell_type": "code",
   "execution_count": 23,
   "metadata": {},
   "outputs": [],
   "source": [
    "kate = Designer('Катя', 2)"
   ]
  },
  {
   "cell_type": "code",
   "execution_count": 24,
   "metadata": {},
   "outputs": [
    {
     "name": "stdout",
     "output_type": "stream",
     "text": [
      "Катя 1\n",
      "Катя 1\n",
      "Катя 1\n",
      "Катя 1\n",
      "Катя 2\n",
      "Катя 2\n",
      "Катя 2\n",
      "Катя 2\n",
      "Катя 2\n",
      "Катя 2\n",
      "Катя 2\n",
      "Катя 3\n",
      "Катя 3\n",
      "Катя 3\n",
      "Катя 3\n",
      "Катя 3\n",
      "Катя 3\n",
      "Катя 3\n",
      "Катя 4\n",
      "Катя 4\n",
      "New prize!\n",
      "New prize!\n",
      "New prize!\n",
      "New prize!\n",
      "New prize!\n",
      "Катя 4\n",
      "Катя 4\n",
      "Катя 5\n",
      "Катя 5\n",
      "Катя 5\n",
      "Катя 5\n",
      "Катя 5\n",
      "Катя 5\n",
      "Катя 5\n",
      "Катя 6\n",
      "Катя 6\n",
      "Катя 6\n",
      "Катя 6\n",
      "Катя 6\n",
      "Катя 6\n",
      "Катя 6\n",
      "Катя 7\n",
      "Катя 7\n",
      "Катя 7\n",
      "Катя 7\n"
     ]
    }
   ],
   "source": [
    "for i in range(20):\n",
    "    kate.check_if_it_is_time_for_upgrade()\n",
    "    \n",
    "for i in range(5):\n",
    "    kate.give_a_prize()\n",
    "\n",
    "for i in range(20):\n",
    "    kate.check_if_it_is_time_for_upgrade()"
   ]
  },
  {
   "cell_type": "code",
   "execution_count": 17,
   "metadata": {},
   "outputs": [
    {
     "name": "stdout",
     "output_type": "stream",
     "text": [
      "New prize!\n"
     ]
    }
   ],
   "source": []
  }
 ],
 "metadata": {
  "kernelspec": {
   "display_name": "Python 3",
   "language": "python",
   "name": "python3"
  },
  "language_info": {
   "codemirror_mode": {
    "name": "ipython",
    "version": 3
   },
   "file_extension": ".py",
   "mimetype": "text/x-python",
   "name": "python",
   "nbconvert_exporter": "python",
   "pygments_lexer": "ipython3",
   "version": "3.8.5"
  }
 },
 "nbformat": 4,
 "nbformat_minor": 4
}

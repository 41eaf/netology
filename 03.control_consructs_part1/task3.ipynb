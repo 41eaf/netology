{
 "cells": [
  {
   "cell_type": "code",
   "execution_count": null,
   "metadata": {},
   "outputs": [],
   "source": [
    "'''Мы делаем MVP dating-сервиса, и у нас есть список парней и девушек.\n",
    "Выдвигаем гипотезу: лучшие рекомендации мы получим, если просто отсортируем имена по алфавиту и познакомим людей с одинаковыми индексами после сортировки! \n",
    "Но мы не будем никого знакомить, если кто-то может остаться без пары:\n",
    "\n",
    "Примеры работы программы:\n",
    "\n",
    "boys = [‘Peter’, ‘Alex’, ‘John’, ‘Arthur’, ‘Richard’]\n",
    "girls = [‘Kate’, ‘Liza’, ‘Kira’, ‘Emma’, ‘Trisha’]\n",
    "Результат:\n",
    "\n",
    "Идеальные пары:\n",
    "Alex и Emma\n",
    "Arthur и Kate\n",
    "John и Kira\n",
    "Peter и Liza\n",
    "Richard и Trisha\n",
    "boys = [‘Peter’, ‘Alex’, ‘John’, ‘Arthur’, ‘Richard’, ‘Michael’]\n",
    "girls = [‘Kate’, ‘Liza’, ‘Kira’, ‘Emma’, ‘Trisha’]\n",
    "Результат:\n",
    "Внимание, кто-то может остаться без пары!'''"
   ]
  },
  {
   "cell_type": "code",
   "execution_count": 31,
   "metadata": {},
   "outputs": [],
   "source": [
    "boys = ['Peter', 'Alex', 'John', 'Arthur', 'Richard', 'Michael']\n",
    "girls = ['Kate', 'Liza', 'Kira', 'Emma', 'Trisha']"
   ]
  },
  {
   "cell_type": "code",
   "execution_count": 32,
   "metadata": {},
   "outputs": [],
   "source": [
    "list.sort(boys)\n",
    "list.sort(girls)"
   ]
  },
  {
   "cell_type": "code",
   "execution_count": 35,
   "metadata": {},
   "outputs": [
    {
     "name": "stdout",
     "output_type": "stream",
     "text": [
      "Результат: \n",
      "Внимание, кто-то может остаться без пары!\n"
     ]
    }
   ],
   "source": [
    "if len (boys) == len(girls):\n",
    "    print (f'Идеальные пары: \\n{boys[0]} и {girls[0]} \\n{boys[1]} и {girls[1]} \\n{boys[2]} и {girls[2]} \\n{boys[3]} и {girls[3]} \\n{boys[4]} и {girls[4]} \\n')\n",
    "print(f'Результат: \\nВнимание, кто-то может остаться без пары!')\n",
    "    \n",
    "    "
   ]
  },
  {
   "cell_type": "code",
   "execution_count": 36,
   "metadata": {},
   "outputs": [
    {
     "name": "stdout",
     "output_type": "stream",
     "text": [
      "['Alex', 'Arthur', 'John', 'Michael', 'Peter', 'Richard']\n",
      "['Emma', 'Kate', 'Kira', 'Liza', 'Trisha']\n"
     ]
    }
   ],
   "source": [
    "print (boys)\n",
    "print (girls)"
   ]
  },
  {
   "cell_type": "code",
   "execution_count": 4,
   "metadata": {},
   "outputs": [
    {
     "name": "stdout",
     "output_type": "stream",
     "text": [
      "Результат: \n",
      "Внимание, кто-то может остаться без пары!\n"
     ]
    }
   ],
   "source": [
    "boys = ['Peter', 'Alex', 'John', 'Arthur', 'Richard', 'Michael']\n",
    "girls = ['Kate', 'Liza', 'Kira', 'Emma', 'Trisha']\n",
    "\n",
    "list.sort(boys)\n",
    "list.sort(girls)\n",
    "\n",
    "if len (boys) == len(girls):\n",
    "    print (f'Идеальные пары: \\n{boys[0]} и {girls[0]} \\n{boys[1]} и {girls[1]} \\n{boys[2]} и {girls[2]} \\n{boys[3]} и {girls[3]} \\n{boys[4]} и {girls[4]} \\n')\n",
    "else: print(f'Результат: \\nВнимание, кто-то может остаться без пары!')\n"
   ]
  },
  {
   "cell_type": "code",
   "execution_count": 8,
   "metadata": {},
   "outputs": [
    {
     "name": "stdout",
     "output_type": "stream",
     "text": [
      "Идеальные пары:\n",
      "Идеальные пары: \n",
      "Alex и Emma \n",
      "Arthur и Kate \n",
      "John и Kira \n",
      "Peter и Liza \n",
      "Richard и Trisha \n",
      "\n"
     ]
    }
   ],
   "source": [
    "boys = ['Peter', 'Alex', 'John', 'Arthur', 'Richard']\n",
    "girls = ['Kate', 'Liza', 'Kira', 'Emma', 'Trisha']\n",
    "\n",
    "list.sort(boys)\n",
    "list.sort(girls)\n",
    "\n",
    "if len (boys) == len(girls):\n",
    "    print ('Идеальные пары:')\n",
    "    print (f'Идеальные пары: \\n{boys[0]} и {girls[0]} \\n{boys[1]} и {girls[1]} \\n{boys[2]} и {girls[2]} \\n{boys[3]} и {girls[3]} \\n{boys[4]} и {girls[4]} \\n')\n",
    "else: print(f'Результат: \\nВнимание, кто-то может остаться без пары!')"
   ]
  }
 ],
 "metadata": {
  "kernelspec": {
   "display_name": "Python 3",
   "language": "python",
   "name": "python3"
  },
  "language_info": {
   "codemirror_mode": {
    "name": "ipython",
    "version": 3
   },
   "file_extension": ".py",
   "mimetype": "text/x-python",
   "name": "python",
   "nbconvert_exporter": "python",
   "pygments_lexer": "ipython3",
   "version": "3.8.5"
  }
 },
 "nbformat": 4,
 "nbformat_minor": 4
}

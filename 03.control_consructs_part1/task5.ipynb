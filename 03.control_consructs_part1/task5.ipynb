{
 "cells": [
  {
   "cell_type": "code",
   "execution_count": null,
   "metadata": {},
   "outputs": [],
   "source": [
    "'''Дан поток логов по количеству просмотренных страниц для каждого пользователя. Вам необходимо написать алгоритм, который считает среднее значение просмотров на пользователя. Т. е. надо посчитать отношение суммы всех просмотров к количеству уникальных пользователей.\n",
    "\n",
    "Примеры работы программы:\n",
    "\n",
    "stream = [\n",
    "‘2018-01-01,user1,3’,\n",
    "‘2018-01-07,user1,4’,\n",
    "‘2018-03-29,user1,1’,\n",
    "‘2018-04-04,user1,13’,\n",
    "‘2018-01-05,user2,7’,\n",
    "‘2018-06-14,user3,4’,\n",
    "‘2018-07-02,user3,10’,\n",
    "‘2018-03-21,user4,19’,\n",
    "‘2018-03-22,user4,4’,\n",
    "‘2018-04-22,user4,8’,\n",
    "‘2018-05-03,user4,9’,\n",
    "‘2018-05-11,user4,11’,\n",
    "]\n",
    "Результат:\n",
    "Среднее количество просмотров на уникального пользователя: 23.25\n",
    "\n",
    "stream = [\n",
    "‘2018-01-01,user100,150’,\n",
    "‘2018-01-07,user99,205’,\n",
    "‘2018-03-29,user1001,81’\n",
    "]\n",
    "Результат:\n",
    "Среднее количество просмотров на уникального пользователя: 145.33'''"
   ]
  },
  {
   "cell_type": "code",
   "execution_count": 2,
   "metadata": {},
   "outputs": [],
   "source": [
    "\n",
    "stream = [\n",
    "'2018-01-01,user1,3',\n",
    "'2018-01-07,user1,4',\n",
    "'2018-03-29,user1,1',\n",
    "'2018-04-04,user1,13',\n",
    "'2018-01-05,user2,7',\n",
    "'2018-06-14,user3,4',\n",
    "'2018-07-02,user3,10',\n",
    "'2018-03-21,user4,19',\n",
    "'2018-03-22,user4,4',\n",
    "'2018-04-22,user4,8',\n",
    "'2018-05-03,user4,9',\n",
    "'2018-05-11,user4,11',\n",
    "]\n"
   ]
  },
  {
   "cell_type": "code",
   "execution_count": 7,
   "metadata": {},
   "outputs": [],
   "source": [
    "stream = [\n",
    "'2018-01-01,user100,150',\n",
    "'2018-01-07,user99,205',\n",
    "'2018-03-29,user1001,81'\n",
    "]"
   ]
  },
  {
   "cell_type": "code",
   "execution_count": 8,
   "metadata": {},
   "outputs": [],
   "source": [
    "views = 0\n",
    "unique_users = []\n",
    "for s in stream:\n",
    "    splitted_s = s.split(',')\n",
    "    views += int(splitted_s[-1])\n",
    "    if splitted_s[1] not in unique_users:\n",
    "        unique_users.append(splitted_s[1])\n",
    "views_per_user = views/len(unique_users)"
   ]
  },
  {
   "cell_type": "code",
   "execution_count": 9,
   "metadata": {},
   "outputs": [
    {
     "name": "stdout",
     "output_type": "stream",
     "text": [
      "Результат:\n",
      "Среднее количества просмотров на уникального пользователя: 145.33\n"
     ]
    }
   ],
   "source": [
    "print(f'Результат:\\nСреднее количества просмотров на уникального пользователя: {round(views_per_user, 2)}')"
   ]
  }
 ],
 "metadata": {
  "kernelspec": {
   "display_name": "Python 3",
   "language": "python",
   "name": "python3"
  },
  "language_info": {
   "codemirror_mode": {
    "name": "ipython",
    "version": 3
   },
   "file_extension": ".py",
   "mimetype": "text/x-python",
   "name": "python",
   "nbconvert_exporter": "python",
   "pygments_lexer": "ipython3",
   "version": "3.8.5"
  }
 },
 "nbformat": 4,
 "nbformat_minor": 4
}

{
 "cells": [
  {
   "cell_type": "code",
   "execution_count": null,
   "metadata": {},
   "outputs": [],
   "source": [
    "'''Задание 3\n",
    "\n",
    "Используйте файл с оценками фильмов ml-latest-small/ratings.csv. \n",
    "Посчитайте среднее время жизни пользователей, которые выставили более 100 оценок. \n",
    "Под временем жизни понимается разница между максимальным и минимальным значением столбца timestamp для данного значения userId.'''"
   ]
  }
 ],
 "metadata": {
  "kernelspec": {
   "display_name": "Python 3",
   "language": "python",
   "name": "python3"
  },
  "language_info": {
   "codemirror_mode": {
    "name": "ipython",
    "version": 3
   },
   "file_extension": ".py",
   "mimetype": "text/x-python",
   "name": "python",
   "nbconvert_exporter": "python",
   "pygments_lexer": "ipython3",
   "version": "3.8.5"
  }
 },
 "nbformat": 4,
 "nbformat_minor": 4
}

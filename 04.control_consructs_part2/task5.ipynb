{
 "cells": [
  {
   "cell_type": "code",
   "execution_count": 1,
   "metadata": {},
   "outputs": [
    {
     "data": {
      "text/plain": [
       "'Дан список произвольной длины. \\nНеобходимо написать код, который на основе исходного списка составит словарь такого уровня вложенности, \\nкакова длина исхондого списка.\\n\\nПримеры работы программы:\\n\\nmy_list = [‘2018-01-01’, ‘yandex’, ‘cpc’, 100]\\nРезультат: {‘2018-01-01’: {‘yandex’: {‘cpc’: 100}}}\\n\\nmy_list = [‘a’, ‘b’, ‘c’, ‘d’, ‘e’, ‘f’]\\nРезультат: {‘a’: {‘b’: {‘c’: {‘d’: {‘e’: ‘f’}}}}}'"
      ]
     },
     "execution_count": 1,
     "metadata": {},
     "output_type": "execute_result"
    }
   ],
   "source": [
    "'''Дан список произвольной длины. \n",
    "Необходимо написать код, который на основе исходного списка составит словарь такого уровня вложенности, \n",
    "какова длина исхондого списка.\n",
    "\n",
    "Примеры работы программы:\n",
    "\n",
    "my_list = [‘2018-01-01’, ‘yandex’, ‘cpc’, 100]\n",
    "Результат: {‘2018-01-01’: {‘yandex’: {‘cpc’: 100}}}\n",
    "\n",
    "my_list = [‘a’, ‘b’, ‘c’, ‘d’, ‘e’, ‘f’]\n",
    "Результат: {‘a’: {‘b’: {‘c’: {‘d’: {‘e’: ‘f’}}}}}'''"
   ]
  },
  {
   "cell_type": "code",
   "execution_count": 2,
   "metadata": {},
   "outputs": [],
   "source": [
    "my_list = ['2018-01-01', 'yandex', 'cpc', 100]"
   ]
  },
  {
   "cell_type": "code",
   "execution_count": 14,
   "metadata": {},
   "outputs": [],
   "source": [
    "my_list = ['a', 'b', 'c', 'd', 'e', 'f']\n"
   ]
  },
  {
   "cell_type": "code",
   "execution_count": 4,
   "metadata": {},
   "outputs": [
    {
     "name": "stdout",
     "output_type": "stream",
     "text": [
      "{'cpc': 100}\n",
      "{'cpc': 100, 'yandex': 'cpc'}\n",
      "{'cpc': 100, 'yandex': 'cpc', '2018-01-01': 'yandex'}\n"
     ]
    }
   ],
   "source": [
    "my_list = ['2018-01-01', 'yandex', 'cpc', 100]\n",
    "\n",
    "res = {}\n",
    "\n",
    "\n",
    "n = 1\n",
    "while n < len(my_list) :\n",
    "    res[my_list[-n - 1]] = my_list[-n]\n",
    "    n += 1\n",
    "    print(res)"
   ]
  },
  {
   "cell_type": "code",
   "execution_count": 8,
   "metadata": {},
   "outputs": [
    {
     "name": "stdout",
     "output_type": "stream",
     "text": [
      "{'cpc': 100}\n",
      "{'yandex': {'cpc': 100}}\n",
      "{'2018-01-01': {'yandex': {'cpc': 100}}}\n"
     ]
    }
   ],
   "source": [
    "my_list = ['2018-01-01', 'yandex', 'cpc', 100]\n",
    "\n",
    "res = {}\n",
    "res2 = {}\n",
    "res3 = {}\n",
    "n = 1\n",
    "\n",
    "res[my_list[-n - 1]] = my_list[-n]\n",
    "n += 1\n",
    "res2[my_list[-n - 1]] = res\n",
    "n += 1\n",
    "res3[my_list[-n - 1]] = res2\n",
    "print(res)\n",
    "print(res2)\n",
    "print(res3)"
   ]
  },
  {
   "cell_type": "code",
   "execution_count": 12,
   "metadata": {},
   "outputs": [
    {
     "ename": "IndexError",
     "evalue": "list index out of range",
     "output_type": "error",
     "traceback": [
      "\u001b[0;31m---------------------------------------------------------------------------\u001b[0m",
      "\u001b[0;31mIndexError\u001b[0m                                Traceback (most recent call last)",
      "\u001b[0;32m<ipython-input-12-21583a91dc66>\u001b[0m in \u001b[0;36m<module>\u001b[0;34m\u001b[0m\n\u001b[1;32m      7\u001b[0m \u001b[0;32mwhile\u001b[0m \u001b[0mn\u001b[0m \u001b[0;34m<\u001b[0m \u001b[0mlen\u001b[0m\u001b[0;34m(\u001b[0m\u001b[0mmy_list\u001b[0m\u001b[0;34m)\u001b[0m\u001b[0;34m:\u001b[0m\u001b[0;34m\u001b[0m\u001b[0;34m\u001b[0m\u001b[0m\n\u001b[1;32m      8\u001b[0m     \u001b[0mn\u001b[0m \u001b[0;34m+=\u001b[0m \u001b[0;36m1\u001b[0m\u001b[0;34m\u001b[0m\u001b[0;34m\u001b[0m\u001b[0m\n\u001b[0;32m----> 9\u001b[0;31m     \u001b[0mres\u001b[0m\u001b[0;34m[\u001b[0m\u001b[0mmy_list\u001b[0m\u001b[0;34m[\u001b[0m\u001b[0;34m-\u001b[0m\u001b[0mn\u001b[0m \u001b[0;34m-\u001b[0m \u001b[0;36m1\u001b[0m\u001b[0;34m]\u001b[0m\u001b[0;34m]\u001b[0m \u001b[0;34m=\u001b[0m \u001b[0mres\u001b[0m\u001b[0;34m\u001b[0m\u001b[0;34m\u001b[0m\u001b[0m\n\u001b[0m\u001b[1;32m     10\u001b[0m \u001b[0mprint\u001b[0m\u001b[0;34m(\u001b[0m\u001b[0mres\u001b[0m\u001b[0;34m)\u001b[0m\u001b[0;34m\u001b[0m\u001b[0;34m\u001b[0m\u001b[0m\n",
      "\u001b[0;31mIndexError\u001b[0m: list index out of range"
     ]
    }
   ],
   "source": [
    "my_list = ['2018-01-01', 'yandex', 'cpc', 100]\n",
    "\n",
    "res = {}\n",
    "res2 = {}\n",
    "n = 1\n",
    "res[my_list[-n - 1]] = my_list[-n]\n",
    "while n < len(my_list):\n",
    "    n += 1\n",
    "    res[my_list[-n - 1]] = res\n",
    "print(res)"
   ]
  }
 ],
 "metadata": {
  "kernelspec": {
   "display_name": "Python 3",
   "language": "python",
   "name": "python3"
  },
  "language_info": {
   "codemirror_mode": {
    "name": "ipython",
    "version": 3
   },
   "file_extension": ".py",
   "mimetype": "text/x-python",
   "name": "python",
   "nbconvert_exporter": "python",
   "pygments_lexer": "ipython3",
   "version": "3.8.5"
  }
 },
 "nbformat": 4,
 "nbformat_minor": 4
}
